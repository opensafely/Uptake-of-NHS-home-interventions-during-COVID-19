{
 "cells": [
  {
   "cell_type": "markdown",
   "metadata": {},
   "source": [
    "# Analysis of outputs"
   ]
  },
  {
   "cell_type": "code",
   "execution_count": null,
   "metadata": {},
   "outputs": [],
   "source": [
    "import os\n",
    "import pandas as pd"
   ]
  },
  {
   "cell_type": "markdown",
   "metadata": {},
   "source": [
    "## Read in `csvs`"
   ]
  },
  {
   "cell_type": "code",
   "execution_count": null,
   "metadata": {},
   "outputs": [],
   "source": [
    "# path to output directory\n",
    "dir = \"../../output/\"\n",
    "# find csv files\n",
    "filepaths = [f for f in os.listdir(dir) if f.endswith('.csv')]\n",
    "# append the directory path to filename\n",
    "filepaths_dir = [dir + filepath for filepath in filepaths]\n",
    "\n",
    "# create empty list to append dataframes\n",
    "dfs = []\n",
    "for file in filepaths_dir:\n",
    "    # read in files\n",
    "    output=pd.read_csv(file)\n",
    "    # Get the index date from the filename\n",
    "    index_date = pd.to_datetime(file.split(\"_\", )[1].split(\".csv\")[0], dayfirst=True)\n",
    "    # Add the index date to the file\n",
    "    output[\"index_date\"] = index_date\n",
    "    # Append the dataframes to the list\n",
    "    dfs.append(output)\n",
    "\n",
    "# Combine all the dataframes together\n",
    "population_df = pd.concat(dfs)"
   ]
  },
  {
   "cell_type": "code",
   "execution_count": null,
   "metadata": {},
   "outputs": [],
   "source": [
    "#population_df.head()"
   ]
  },
  {
   "cell_type": "code",
   "execution_count": null,
   "metadata": {},
   "outputs": [],
   "source": [
    "#population_df.describe()"
   ]
  },
  {
   "cell_type": "code",
   "execution_count": null,
   "metadata": {},
   "outputs": [],
   "source": [
    "#shielding_sum = pd.DataFrame(population_df.groupby(\"index_date\")[\"shielding\"].sum())"
   ]
  },
  {
   "cell_type": "code",
   "execution_count": null,
   "metadata": {},
   "outputs": [],
   "source": [
    "# Create data frame of sums of each column for each index date\n",
    "sum_df = population_df.groupby(['index_date'], as_index=False).sum()\n",
    "#sum_df.head()"
   ]
  },
  {
   "cell_type": "code",
   "execution_count": null,
   "metadata": {},
   "outputs": [],
   "source": [
    "# Change pulse oximetry headers in sum_df\n",
    "\n",
    "# Convert pulse oximetry codelist csv into data frame\n",
    "pulse_oximetry_codes_df = pd.read_csv('../../codelists/opensafely-pulse-oximetry.csv')\n",
    "# Extract list of codes\n",
    "pulse_oximetry_codes_list = pulse_oximetry_codes_df['code'].tolist()\n",
    "\n",
    "# Create dictionary for renaming oximetry headers\n",
    "oximetry_dictionary = {}\n",
    "for n in range(0,len(pulse_oximetry_codes_df)):\n",
    "    oximetry_dictionary[f'pulse_oximetry_{pulse_oximetry_codes_df.iat[n,0]}'] = pulse_oximetry_codes_df.iat[n,1]\n",
    "\n",
    "# Rename oximetry headers in sums data frame\n",
    "sum_df.rename(columns=oximetry_dictionary,inplace=True)\n",
    "\n",
    "# Create list of headers\n",
    "#pulse_oximetry_headers = [f'pulse_oximetry_{x}' for x in pulse_oximetry_codes_list]\n",
    "pulse_oximetry_headers = pulse_oximetry_codes_df['term'].tolist()\n"
   ]
  },
  {
   "cell_type": "code",
   "execution_count": null,
   "metadata": {},
   "outputs": [],
   "source": [
    "#sum_df.head()"
   ]
  },
  {
   "cell_type": "code",
   "execution_count": null,
   "metadata": {},
   "outputs": [],
   "source": [
    "# Plot a time series of all of the oximetry codes\n",
    "plot_1 = sum_df.plot.line('index_date',pulse_oximetry_headers, figsize=(20, 10), title = 'Use of Pulse Oximetry Codes Over Time', fontsize = 20)\n",
    "plot_1.legend(loc='upper left', bbox_to_anchor=(1.0, 1.0), fontsize = 20)\n",
    "plot_1.set_xlabel(\"Date\", fontsize = 20)\n",
    "plot_1.title.set_size(40)"
   ]
  }
 ],
 "metadata": {
  "interpreter": {
   "hash": "a462d7674217bb4844830a9e38989d91f8ec2950da247b14704f3c0d7cf5596c"
  },
  "kernelspec": {
   "display_name": "Python 3 Spark - local",
   "language": "python",
   "name": "pyspark3"
  },
  "language_info": {
   "codemirror_mode": {
    "name": "ipython",
    "version": 3
   },
   "file_extension": ".py",
   "mimetype": "text/x-python",
   "name": "python",
   "nbconvert_exporter": "python",
   "pygments_lexer": "ipython3",
   "version": "3.9.5"
  },
  "orig_nbformat": 4
 },
 "nbformat": 4,
 "nbformat_minor": 2
}
