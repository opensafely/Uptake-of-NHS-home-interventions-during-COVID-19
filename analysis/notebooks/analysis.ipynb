{
 "cells": [
  {
   "cell_type": "markdown",
   "metadata": {},
   "source": [
    "# Analysis of outputs"
   ]
  },
  {
   "cell_type": "code",
   "execution_count": 6,
   "metadata": {},
   "outputs": [],
   "source": [
    "import os\n",
    "import pandas as pd\n",
    "import matplotlib.pyplot as plt\n",
    "import math\n",
    "import numpy as np\n",
    "from textwrap import wrap\n",
    "import sys\n",
    "if \"..\" not in sys.path:\n",
    "    sys.path.insert(0, \"..\")\n",
    "from analysis_data_processing import (\n",
    "    create_population_df,\n",
    "    redact_and_round_column,\n",
    "    redact_and_round_df,\n",
    "    code_specific_analysis,\n",
    "    further_redaction,\n",
    "    further_redaction_all,\n",
    "    redact_to_five_and_round,\n",
    "    produce_plot,\n",
    ")"
   ]
  },
  {
   "cell_type": "markdown",
   "metadata": {},
   "source": [
    "## Data Processing"
   ]
  },
  {
   "cell_type": "code",
   "execution_count": 7,
   "metadata": {},
   "outputs": [],
   "source": [
    "# Create population data frame which includes all weeks and dictionary of cohort size for each individual week\n",
    "population_df, cohort_size = create_population_df(\"../../output/\")\n",
    "\n",
    "# Create dictionary of oximetry codes and terms they refer to\n",
    "oximetry_codes_df = pd.read_csv('../../codelists/opensafely-pulse-oximetry.csv')\n",
    "oximetry_codes_dict = oximetry_codes_df.set_index(\"code\")[\"term\"].to_dict()\n",
    "\n",
    "# Define the ranges for each of the age categories\n",
    "# (e.g. [-1, 17] will find ages such that -1<age<=17 - age is a whole number in the data frame so this is anyone aged 0 to 17 inclusive)\n",
    "age_bins = [-1, 39, 49, 64, 200]\n",
    "n = len(age_bins)\n",
    "\n",
    "# Create list of labels for the different age groups\n",
    "age_group_labels = []\n",
    "# For all except the last final age category the label is 'Age between ... and ...'\n",
    "for i in range(0, len(age_bins)-2):\n",
    "    age_group_labels.append(f'Age between {age_bins[i]+1} and {age_bins[i+1]+1}')\n",
    "# For final age category the label is 'Age ... or over'\n",
    "age_group_labels.append(f'Age {age_bins[-2]+1} or over')\n",
    "\n",
    "# Create list of age category for each patient and insert into the population data frame\n",
    "age_category = pd.cut(population_df.age, bins = age_bins, labels = age_group_labels)\n",
    "population_df.insert(0, 'age_group', age_category)\n",
    "\n",
    "\n",
    "\n",
    "# Define the ranges for each of the age categories\n",
    "# (e.g. [-1, 17] will find ages such that -1<age<=17 - age is a whole number in the data frame so this is anyone aged 0 to 17 inclusive)\n",
    "age_bins_2 = [-1, 39, 49, 64, 200]\n",
    "n = len(age_bins_2)\n",
    "\n",
    "# Create list of labels for the different age groups\n",
    "age_group_labels_2 = []\n",
    "# For all except the last final age category the label is 'Age between ... and ...'\n",
    "for i in range(0, len(age_bins_2)-2):\n",
    "    age_group_labels_2.append(f'Age between {age_bins_2[i]+1} and {age_bins_2[i+1]+1}')\n",
    "# For final age category the label is 'Age ... or over'\n",
    "age_group_labels_2.append(f'Age {age_bins_2[-2]+1} or over')\n",
    "\n",
    "# Create list of age category for each patient and insert into the population data frame\n",
    "age_category_2 = pd.cut(population_df.age, bins = age_bins_2, labels = age_group_labels_2)\n",
    "population_df.insert(0, 'age_group_2', age_category_2)\n",
    "\n",
    "# Add column to population data frame for combined age group and shielding status\n",
    "conditionlist = [\n",
    "    (population_df['shielding'] == 1) ,\n",
    "    (population_df['shielding'] == 0) & (population_df['age'] >=65),\n",
    "    (population_df['shielding'] == 0) & (population_df['age'] >=50) & (population_df['age'] <65),\n",
    "    (population_df['shielding'] == 0) & (population_df['age'] <50)]\n",
    "choicelist = ['1: Shielding',\n",
    "    '2: Aged 65 or over and not shielding',\n",
    "    '3: Aged 50 to 64 and not shielding',\n",
    "    '4: Aged 49 or under and not shielding']\n",
    "population_df['age_and_shielding'] = np.select(conditionlist, choicelist, default='Not Specified')\n",
    "\n",
    "region_list = [\"North East\", \"North West\", \"Yorkshire and the Humber\", \"East Midlands\", \"West Midlands\", \"East of England\", \"London\", \"South East\", \"South West\"]\n",
    "\n",
    "# Create dictionary of oximetry codes: keys are SNOMED codes, values are the terms they refer to\n",
    "oximetry_codes_df = pd.read_csv('../../codelists/opensafely-pulse-oximetry.csv')\n",
    "oximetry_codes_dict = oximetry_codes_df.set_index(\"code\")[\"term\"].to_dict()\n",
    "# Create dictionary of oximetry headers:\n",
    "# Keys are oximetry headers in input csv files (i.e. pulse_oximetry_code), values are the terms they refer to\n",
    "oximetry_headers_dict = {f\"pulse_oximetry_{k}\":v for k,v in oximetry_codes_dict.items()}\n",
    "\n"
   ]
  },
  {
   "cell_type": "markdown",
   "metadata": {},
   "source": [
    "## Create dataframe of sums of pulse oximetry codes for each index week"
   ]
  },
  {
   "cell_type": "code",
   "execution_count": 8,
   "metadata": {},
   "outputs": [],
   "source": [
    "# # Create population data frame which includes all weeks and dictionary of cohort size for each individual week\n",
    "# population_df, cohort_size = create_population_df(\"../../output/\")\n",
    "\n",
    "# # Create lists of current and required headers\n",
    "# # Convert pulse oximetry codelist csv into data frame\n",
    "# oximetry_codes_df = pd.read_csv('../../codelists/opensafely-pulse-oximetry.csv')\n",
    "# # Extract list of SNOMED codes\n",
    "# oximetry_codes_list = oximetry_codes_df['code'].tolist()\n",
    "# # List of pulse oximetry headers in population dataframe\n",
    "# oximetry_codes_headers = [f'pulse_oximetry_{x}' for x in oximetry_codes_list]\n",
    "# # List of headers using descriptions as required\n",
    "# oximetry_headers = oximetry_codes_df['term'].tolist()\n",
    "\n",
    "# # Create dictionary for renaming oximetry headers\n",
    "# oximetry_dictionary = {}\n",
    "# for n in range(0,len(oximetry_codes_df)):\n",
    "#     oximetry_dictionary[oximetry_codes_headers[n]] = oximetry_headers[n]\n",
    "\n",
    "# #Create data frame of sum totals for each index date for each oximetry code\n",
    "# oximetry_sum = population_df.groupby(['index_date'], as_index=False)[oximetry_codes_headers].sum()\n",
    "\n",
    "# # Rename oximetry headers in oximetry sums data frame\n",
    "# oximetry_sum.rename(columns=oximetry_dictionary,inplace=True)\n",
    "\n",
    "# # Save the dataframe in outputs folder\n",
    "# #oximetry_sum.to_csv('../../output/oximetry_sums.csv') \n"
   ]
  }
 ],
 "metadata": {
  "interpreter": {
   "hash": "f9354c1e0e2d2bbef95a3c2fda0e5520886dbe0761b76d547146644a53218dc0"
  },
  "kernelspec": {
   "display_name": "Python 3 Spark - local",
   "language": "python",
   "name": "python3"
  },
  "language_info": {
   "codemirror_mode": {
    "name": "ipython",
    "version": 3
   },
   "file_extension": ".py",
   "mimetype": "text/x-python",
   "name": "python",
   "nbconvert_exporter": "python",
   "pygments_lexer": "ipython3",
   "version": "3.9.5"
  },
  "orig_nbformat": 4
 },
 "nbformat": 4,
 "nbformat_minor": 2
}
