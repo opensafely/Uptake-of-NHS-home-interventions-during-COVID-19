{
 "cells": [
  {
   "cell_type": "markdown",
   "metadata": {},
   "source": [
    "# Analysis of outputs"
   ]
  },
  {
   "cell_type": "code",
   "execution_count": null,
   "metadata": {},
   "outputs": [],
   "source": [
    "import os\n",
    "import pandas as pd"
   ]
  },
  {
   "cell_type": "markdown",
   "metadata": {},
   "source": [
    "## Read in `csvs`"
   ]
  },
  {
   "cell_type": "code",
   "execution_count": null,
   "metadata": {},
   "outputs": [],
   "source": [
    "# path to output directory\n",
    "dir = \"../../output/\"\n",
    "# find csv files\n",
    "filepaths = [f for f in os.listdir(dir) if f.endswith('.csv')]\n",
    "# append the directory path to filename\n",
    "filepaths_dir = [dir + filepath for filepath in filepaths]\n",
    "\n",
    "# create empty list to append dataframes\n",
    "dfs = []\n",
    "for file in filepaths_dir:\n",
    "    # read in files\n",
    "    output=pd.read_csv(file)\n",
    "    # Get the index date from the filename\n",
    "    index_date = pd.to_datetime(file.split(\"_\", )[1].split(\".csv\")[0], dayfirst=True)\n",
    "    # Add the index date to the file\n",
    "    output[\"index_date\"] = index_date\n",
    "    # Append the dataframes to the list\n",
    "    dfs.append(output)\n",
    "\n",
    "# Combine all the dataframes together\n",
    "population_df = pd.concat(dfs)"
   ]
  },
  {
   "cell_type": "code",
   "execution_count": null,
   "metadata": {},
   "outputs": [],
   "source": [
    "pd.DataFrame(population_df.groupby(\"index_date\")[\"shielding\"].sum())"
   ]
  }
 ],
 "metadata": {
  "interpreter": {
   "hash": "a462d7674217bb4844830a9e38989d91f8ec2950da247b14704f3c0d7cf5596c"
  },
  "kernelspec": {
   "display_name": "Python 3.8.5 64-bit ('.opensafelyenv': venv)",
   "language": "python",
   "name": "python3"
  },
  "language_info": {
   "codemirror_mode": {
    "name": "ipython",
    "version": 3
   },
   "file_extension": ".py",
   "mimetype": "text/x-python",
   "name": "python",
   "nbconvert_exporter": "python",
   "pygments_lexer": "ipython3",
   "version": "3.8.5"
  },
  "orig_nbformat": 4
 },
 "nbformat": 4,
 "nbformat_minor": 2
}
