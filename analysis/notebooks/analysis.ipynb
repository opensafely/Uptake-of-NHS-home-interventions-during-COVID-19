{
 "cells": [
  {
   "cell_type": "markdown",
   "metadata": {},
   "source": [
    "# Analysis of outputs"
   ]
  },
  {
   "cell_type": "code",
   "execution_count": null,
   "metadata": {},
   "outputs": [],
   "source": [
    "import os\n",
    "import pandas as pd\n",
    "import matplotlib.pyplot as plt\n",
    "if \"..\" not in sys.path:\n",
    "    sys.path.insert(0, \"..\")\n",
    "from analysis_data_processing import create_population_df, redact_and_round_column, redact_and_round_df"
   ]
  },
  {
   "cell_type": "markdown",
   "metadata": {},
   "source": [
    "## Create dataframe of sums of pulse oximetry codes for each index week"
   ]
  },
  {
   "cell_type": "code",
   "execution_count": null,
   "metadata": {},
   "outputs": [],
   "source": [
    "# Create population data frame which includes all weeks and dictionary of cohort size for each individual week\n",
    "population_df, cohort_size = create_population_df(\"../../output/\")\n",
    "\n",
    "# Create lists of current and required headers\n",
    "# Convert pulse oximetry codelist csv into data frame\n",
    "oximetry_codes_df = pd.read_csv('../../codelists/opensafely-pulse-oximetry.csv')\n",
    "# Extract list of SNOMED codes\n",
    "oximetry_codes_list = oximetry_codes_df['code'].tolist()\n",
    "# List of pulse oximetry headers in population dataframe\n",
    "oximetry_codes_headers = [f'pulse_oximetry_{x}' for x in oximetry_codes_list]\n",
    "# List of headers using descriptions as required\n",
    "oximetry_headers = oximetry_codes_df['term'].tolist()\n",
    "\n",
    "# Create dictionary for renaming oximetry headers\n",
    "oximetry_dictionary = {}\n",
    "for n in range(0,len(oximetry_codes_df)):\n",
    "    oximetry_dictionary[oximetry_codes_headers[n]] = oximetry_headers[n]\n",
    "\n",
    "#Create data frame of sum totals for each index date for each oximetry code\n",
    "oximetry_sum = population_df.groupby(['index_date'], as_index=False)[oximetry_codes_headers].sum()\n",
    "\n",
    "# Rename oximetry headers in oximetry sums data frame\n",
    "oximetry_sum.rename(columns=oximetry_dictionary,inplace=True)\n",
    "\n",
    "# Save the dataframe in outputs folder\n",
    "#oximetry_sum.to_csv('../../output/oximetry_sums.csv') \n"
   ]
  },
  {
   "cell_type": "markdown",
   "metadata": {},
   "source": [
    "## Create test dataframe to test redact_and_round_df function"
   ]
  },
  {
   "cell_type": "code",
   "execution_count": null,
   "metadata": {},
   "outputs": [],
   "source": [
    "test_df = oximetry_sum.copy()\n",
    "test_df.iloc[2,3] = 5\n",
    "test_df.iloc[2,2] = 0\n",
    "test_df.iloc[1,1] = 2\n",
    "test_df.iloc[1,2] = 3\n",
    "test_df.iloc[1,3] = 4\n",
    "test_df.iloc[1,4] = 5\n",
    "test_df.iloc[1,5] = 6\n",
    "test_df.iloc[1,6] = 7\n",
    "test_df.iloc[1,7] = 8\n",
    "test_df.iloc[1,8] = 9\n",
    "test_df.iloc[1,9] = 10\n",
    "test_df.iloc[1,10] = 11\n",
    "test_df.iloc[1,11] = 12\n",
    "test_df.iloc[1,12] = 1\n",
    "test_df = redact_and_round_df(test_df)\n"
   ]
  },
  {
   "cell_type": "markdown",
   "metadata": {},
   "source": [
    "## Create timeseries of pulse oximetry code sums (using the test dataframe)"
   ]
  },
  {
   "cell_type": "code",
   "execution_count": null,
   "metadata": {},
   "outputs": [],
   "source": [
    "plt.figure(figsize=(20, 10))\n",
    "plt.rcParams.update({'font.size': 20})\n",
    "for column in oximetry_headers:\n",
    "    # Use interpolation to replace redacted values\n",
    "    interpolated_column = pd.to_numeric(test_df[column], errors='coerce').interpolate()\n",
    "    plt.plot(test_df[\"index_date\"], interpolated_column)\n",
    "plt.legend(oximetry_headers, loc='upper left', bbox_to_anchor=(1.0, 1.0), fontsize = 20)\n",
    "plt.xlabel(\"Date\", fontsize = 25)\n",
    "plt.title('Use of Pulse Oximetry Codes Over Time', fontsize = 40)\n"
   ]
  },
  {
   "cell_type": "code",
   "execution_count": null,
   "metadata": {},
   "outputs": [],
   "source": [
    "# # Create plot\n",
    "# plot_1 = oximetry_sums.plot.line('index_date',oximetry_headers, figsize=(20, 10), fontsize = 20).get_figure()\n",
    "# plt.legend(loc='upper left', bbox_to_anchor=(1.0, 1.0), fontsize = 20)\n",
    "# plt.xlabel(\"Date\", fontsize = 25)\n",
    "# plt.title('Use of Pulse Oximetry Codes Over Time', fontsize = 40)\n",
    "# plot_1.savefig(\"../../output/oximetry_timeseries.png\", bbox_inches =\"tight\")\n"
   ]
  }
 ],
 "metadata": {
  "interpreter": {
   "hash": "f9354c1e0e2d2bbef95a3c2fda0e5520886dbe0761b76d547146644a53218dc0"
  },
  "kernelspec": {
   "display_name": "Python 3 Spark - local",
   "language": "python",
   "name": "python3"
  },
  "language_info": {
   "codemirror_mode": {
    "name": "ipython",
    "version": 3
   },
   "file_extension": ".py",
   "mimetype": "text/x-python",
   "name": "python",
   "nbconvert_exporter": "python",
   "pygments_lexer": "ipython3",
   "version": "3.9.5"
  },
  "orig_nbformat": 4
 },
 "nbformat": 4,
 "nbformat_minor": 2
}
