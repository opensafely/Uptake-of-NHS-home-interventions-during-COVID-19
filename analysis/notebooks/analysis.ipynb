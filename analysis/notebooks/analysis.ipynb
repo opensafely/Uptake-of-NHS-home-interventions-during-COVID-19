{
 "cells": [
  {
   "cell_type": "markdown",
   "metadata": {},
   "source": [
    "# Analysis of outputs"
   ]
  },
  {
   "cell_type": "code",
   "execution_count": null,
   "metadata": {},
   "outputs": [],
   "source": [
    "import os\n",
    "import pandas as pd\n",
    "import matplotlib.pyplot as plt"
   ]
  },
  {
   "cell_type": "markdown",
   "metadata": {},
   "source": [
    "## Read in `csvs`"
   ]
  },
  {
   "cell_type": "code",
   "execution_count": null,
   "metadata": {},
   "outputs": [],
   "source": [
    "# path to output directory\n",
    "dir = \"../../output/\"\n",
    "# find the input csv files\n",
    "filepaths = [f for f in os.listdir(dir) if (f.startswith('input') and f.endswith('.csv'))]\n",
    "# append the directory path to filename\n",
    "filepaths_dir = [dir + filepath for filepath in filepaths]\n",
    "\n",
    "# create empty list to append dataframes\n",
    "dfs = []\n",
    "for file in filepaths_dir:\n",
    "    # read in files\n",
    "    output=pd.read_csv(file)\n",
    "    # Get the index date from the filename\n",
    "    index_date = pd.to_datetime(file.split(\"_\", )[1].split(\".csv\")[0], dayfirst=True)\n",
    "    # Add the index date to the file\n",
    "    output[\"index_date\"] = index_date\n",
    "    # Append the dataframes to the list\n",
    "    dfs.append(output)\n",
    "\n",
    "# Combine all the dataframes together\n",
    "population_df = pd.concat(dfs)"
   ]
  },
  {
   "cell_type": "markdown",
   "metadata": {},
   "source": [
    "## Create dataframe of sums of pulse oximetry codes for each index week"
   ]
  },
  {
   "cell_type": "code",
   "execution_count": null,
   "metadata": {},
   "outputs": [],
   "source": [
    "# Create lists of current and required headers\n",
    "# Convert pulse oximetry codelist csv into data frame\n",
    "oximetry_codes_df = pd.read_csv('../../codelists/opensafely-pulse-oximetry.csv')\n",
    "# Extract list of SNOMED codes\n",
    "oximetry_codes_list = oximetry_codes_df['code'].tolist()\n",
    "# List of pulse oximetry headers in population dataframe\n",
    "oximetry_codes_headers = [f'pulse_oximetry_{x}' for x in oximetry_codes_list]\n",
    "# List of headers using descriptions as required\n",
    "oximetry_headers = oximetry_codes_df['term'].tolist()\n",
    "\n",
    "# Create dictionary for renaming oximetry headers\n",
    "oximetry_dictionary = {}\n",
    "for n in range(0,len(oximetry_codes_df)):\n",
    "    oximetry_dictionary[oximetry_codes_headers[n]] = oximetry_headers[n]\n",
    "\n",
    "#Create data frame of sum totals for each index date for each oximetry code\n",
    "oximetry_sum = population_df.groupby(['index_date'], as_index=False)[oximetry_codes_headers].sum()\n",
    "\n",
    "# Rename oximetry headers in oximetry sums data frame\n",
    "oximetry_sum.rename(columns=oximetry_dictionary,inplace=True)\n",
    "\n",
    "# Save the dataframe in outputs folder\n",
    "#oximetry_sum.to_csv('../../output/oximetry_sums.csv') \n"
   ]
  },
  {
   "cell_type": "markdown",
   "metadata": {},
   "source": [
    "## Create timeseries of pulse oximetry code sums"
   ]
  },
  {
   "cell_type": "code",
   "execution_count": null,
   "metadata": {},
   "outputs": [],
   "source": [
    "# Create plot\n",
    "plot_1 = oximetry_sum.plot.line('index_date',oximetry_headers, figsize=(20, 10), fontsize = 20).get_figure()\n",
    "plt.legend(loc='upper left', bbox_to_anchor=(1.0, 1.0), fontsize = 20)\n",
    "plt.xlabel(\"Date\", fontsize = 25)\n",
    "plt.title('Use of Pulse Oximetry Codes Over Time', fontsize = 40)\n",
    "plot_1.savefig(\"../../output/oximetry_timeseries.png\", bbox_inches =\"tight\")\n"
   ]
  }
 ],
 "metadata": {
  "interpreter": {
   "hash": "f9354c1e0e2d2bbef95a3c2fda0e5520886dbe0761b76d547146644a53218dc0"
  },
  "kernelspec": {
   "display_name": "Python 3 Spark - local",
   "language": "python",
   "name": "python3"
  },
  "language_info": {
   "codemirror_mode": {
    "name": "ipython",
    "version": 3
   },
   "file_extension": ".py",
   "mimetype": "text/x-python",
   "name": "python",
   "nbconvert_exporter": "python",
   "pygments_lexer": "ipython3",
   "version": "3.9.5"
  },
  "orig_nbformat": 4
 },
 "nbformat": 4,
 "nbformat_minor": 2
}
